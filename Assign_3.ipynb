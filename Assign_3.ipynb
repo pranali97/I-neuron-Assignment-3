{
 "cells": [
  {
   "cell_type": "code",
   "execution_count": null,
   "metadata": {},
   "outputs": [],
   "source": [
    "1. Why are functions advantageous to have in your programs?"
   ]
  },
  {
   "cell_type": "code",
   "execution_count": null,
   "metadata": {},
   "outputs": [],
   "source": [
    "1.Due to reusability it allows to encapsulate a block of \n",
    "code which performs a specific task and give it a name. This makes it easier \n",
    "to reuse that code whenever we need to perform  the same task again. instaed of\n",
    "rewriting the code multiple times, we can simply call the function.\n",
    "\n",
    "2.Due to its modularity functions break down athe program into smaller, self \n",
    "contained function, we can focus on implementing and testing one functionality\n",
    "This improves the redability and maintainability of our code, as well making\n",
    "it easier to debug.\n",
    "\n",
    "3.function provide a level of abstraction by encapsulating a set of instructions\n",
    "behind a single function call.\n",
    "\n",
    "4. Code organisation in functions helps by grouping related functionality together.\n",
    "By defining functions for specific tasks we can make our code more structured.\n",
    "\n",
    "5.functions provides a well-defined scope for testing and debugging.\n",
    "we can write test cases specifically for a function's input and output, making it easier\n",
    "to validate its correctness.\n",
    "\n"
   ]
  },
  {
   "cell_type": "code",
   "execution_count": null,
   "metadata": {},
   "outputs": [],
   "source": [
    "2. When does the code in a function run: when it's specified or when it's called?"
   ]
  },
  {
   "cell_type": "code",
   "execution_count": null,
   "metadata": {},
   "outputs": [],
   "source": [
    "The code in a function runs when the function is called not when it is specified.\n",
    "defining a function involves writing the code block that defines the function's  behavior.\n",
    "however, the code is not executed until the function is explicitly called. \n",
    "when we call a function by its name the program flow jumps to the function's code\n",
    "executes the statements inside it, and then returns to the point where the function was\n",
    "called."
   ]
  },
  {
   "cell_type": "code",
   "execution_count": null,
   "metadata": {},
   "outputs": [],
   "source": [
    "3. What statement creates a function?"
   ]
  },
  {
   "cell_type": "code",
   "execution_count": null,
   "metadata": {},
   "outputs": [],
   "source": [
    "def keyword used to create function and then followed by the function name, a pair of parentheses, \n",
    "and a colon.here's the basic syntax for creating a function:\n",
    "def function_name():\n",
    "# code block for thefunction_name\n",
    "# Statement to be executed when the function is called"
   ]
  },
  {
   "cell_type": "code",
   "execution_count": 1,
   "metadata": {},
   "outputs": [
    {
     "name": "stdout",
     "output_type": "stream",
     "text": [
      "Hello good morning\n"
     ]
    }
   ],
   "source": [
    "# example :\n",
    "def greet():\n",
    "    print(\"Hello good morning\")\n",
    "greet()  #calling greet function"
   ]
  },
  {
   "cell_type": "code",
   "execution_count": null,
   "metadata": {},
   "outputs": [],
   "source": [
    "In above example, def keyword is used to define the function greet()\n",
    "The code block that belongs to the function is below the function definition.\n",
    "and once the function is defined, we can call it by using its name followed by parentheses."
   ]
  },
  {
   "cell_type": "code",
   "execution_count": null,
   "metadata": {},
   "outputs": [],
   "source": [
    "4. What is the difference between a function and a function call?"
   ]
  },
  {
   "cell_type": "code",
   "execution_count": null,
   "metadata": {},
   "outputs": [],
   "source": [
    "1. In python, a function is a block of code that performs a specific task and\n",
    "can be executed muliple times throughout a program. It is a reusable piece of code \n",
    "that is designed to perform  a specific operation and can accept input parameter(arguments)\n",
    "and return a value.\n",
    "\n",
    "2. A function call is the act of executing a function to perform its defined task. It is\n",
    "the line of code that tells the program to run a particular function with specific argument.\n",
    "the program temporarily jumps to the function's code block, executes the statement inside it\n",
    "and return to the point where the function was called.\n",
    "\n",
    "ex: \n",
    "def greet(name):\n",
    "    print(f\"hello, {name}!\")\n",
    "# Function call\n",
    "greet(\"John\")"
   ]
  },
  {
   "cell_type": "code",
   "execution_count": null,
   "metadata": {},
   "outputs": [],
   "source": [
    "5. How many global scopes are there in a Python program? How many local scopes?"
   ]
  },
  {
   "cell_type": "code",
   "execution_count": null,
   "metadata": {},
   "outputs": [],
   "source": [
    "1.In python program, there is only one global scope, which is the top-level\n",
    "scope that exists outside of any function or class definition. It is accessible throughout the\n",
    "entire program and any variables defined in this scope can be accessed  from anywhere within the \n",
    "program.\n",
    "\n",
    "2.The number of local scopes can vary depending on the number of functions defined within \n",
    " the program. Each function creates its own local scope. Whenever a function is called,\n",
    " a new local scope is created, and when the function is exited, the local scope is destroyed.\n",
    " \n",
    "3. Local variables are used to store variable that are only accessible within the specific functions\n",
    "in which they are defined. These variables are said to have local scope because they are limited in \n",
    "visibilty to that specific portion of the code.\n"
   ]
  },
  {
   "cell_type": "code",
   "execution_count": null,
   "metadata": {},
   "outputs": [],
   "source": [
    "6. What happens to variables in a local scope when the function call returns?"
   ]
  },
  {
   "cell_type": "code",
   "execution_count": null,
   "metadata": {},
   "outputs": [],
   "source": [
    "When a function call returns in python, the local scope of that function is destroyed,\n",
    "any variables defined defined within that local scope cease to exist.\n",
    "\n",
    "Once the function execution completes or a return statement is encountered,\n",
    "the local scope is removed from memory, all variables defined within that\n",
    "scope are no longer accessible. This means that any references to those \n",
    "variables outside the function will result in error.\n",
    "for ex:"
   ]
  },
  {
   "cell_type": "code",
   "execution_count": 1,
   "metadata": {},
   "outputs": [
    {
     "name": "stdout",
     "output_type": "stream",
     "text": [
      "10\n"
     ]
    },
    {
     "ename": "NameError",
     "evalue": "name 'x' is not defined",
     "output_type": "error",
     "traceback": [
      "\u001b[1;31m---------------------------------------------------------------------------\u001b[0m",
      "\u001b[1;31mNameError\u001b[0m                                 Traceback (most recent call last)",
      "\u001b[1;32m<ipython-input-1-b1bb09b9b4e5>\u001b[0m in \u001b[0;36m<module>\u001b[1;34m\u001b[0m\n\u001b[0;32m      3\u001b[0m     \u001b[0mprint\u001b[0m\u001b[1;33m(\u001b[0m\u001b[0mx\u001b[0m\u001b[1;33m)\u001b[0m\u001b[1;33m\u001b[0m\u001b[1;33m\u001b[0m\u001b[0m\n\u001b[0;32m      4\u001b[0m \u001b[0mmy_function\u001b[0m\u001b[1;33m(\u001b[0m\u001b[1;33m)\u001b[0m\u001b[1;33m\u001b[0m\u001b[1;33m\u001b[0m\u001b[0m\n\u001b[1;32m----> 5\u001b[1;33m \u001b[0mprint\u001b[0m\u001b[1;33m(\u001b[0m\u001b[0mx\u001b[0m\u001b[1;33m)\u001b[0m  \u001b[1;31m#this will raise errror\u001b[0m\u001b[1;33m\u001b[0m\u001b[1;33m\u001b[0m\u001b[0m\n\u001b[0m",
      "\u001b[1;31mNameError\u001b[0m: name 'x' is not defined"
     ]
    }
   ],
   "source": [
    "    \n",
    "def my_function():\n",
    "    x = 10\n",
    "    print(x)\n",
    "my_function()\n",
    "print(x)  #this will raise errror"
   ]
  },
  {
   "cell_type": "code",
   "execution_count": null,
   "metadata": {},
   "outputs": [],
   "source": [
    "7. What is the concept of a return value? Is it possible to have a return value in an expression?"
   ]
  },
  {
   "cell_type": "code",
   "execution_count": null,
   "metadata": {},
   "outputs": [],
   "source": [
    "A return value refers to the value that a function sends back to the caller after it completes its \n",
    "execution. When a function is called, it may perform some operations, and result of those operations can \n",
    "be returned in calling mode The return value can be of any data type, such as numbers, strings, lists, \n",
    "dictionaries, etc.The \"return\" statement is used in python to specify what value a function should return.\n",
    "When the 'return'statement is encountered in a function, the function stops executing, and the control is \n",
    "passed back to the caller along with the value specified in the 'return' statement.\n",
    "\n",
    "Here's is a simple example of a function with a return value:-"
   ]
  },
  {
   "cell_type": "code",
   "execution_count": 1,
   "metadata": {},
   "outputs": [
    {
     "name": "stdout",
     "output_type": "stream",
     "text": [
      "8\n"
     ]
    }
   ],
   "source": [
    "def add_numbers(a,b):\n",
    "    return a+b\n",
    "result = add_numbers(5,3)\n",
    "print(result)"
   ]
  },
  {
   "cell_type": "code",
   "execution_count": null,
   "metadata": {},
   "outputs": [],
   "source": [
    "8. If a function does not have a return statement, what is the return value of a call to that function?"
   ]
  },
  {
   "cell_type": "code",
   "execution_count": null,
   "metadata": {},
   "outputs": [],
   "source": [
    "If a function does not have a 'return' statement, it implicitly returns a special value called 'None'.\n",
    "'None' is called implicit built-in constant in python that represents the absences of a \"null\" value\n",
    "When a function does not explicitly specify a 'return' value, Python automatically assumes it is\n",
    "returning None.\n",
    "here is an example of a function without a return statement:-"
   ]
  },
  {
   "cell_type": "code",
   "execution_count": 3,
   "metadata": {},
   "outputs": [
    {
     "name": "stdout",
     "output_type": "stream",
     "text": [
      "Hello, Alice!\n",
      "None\n"
     ]
    }
   ],
   "source": [
    "def greet(name):\n",
    "    print(f\"Hello, {name}!\")\n",
    "result = greet(\"Alice\")\n",
    "print(result)"
   ]
  },
  {
   "cell_type": "code",
   "execution_count": null,
   "metadata": {},
   "outputs": [],
   "source": [
    "9. How do you make a function variable refer to the global variable?"
   ]
  },
  {
   "cell_type": "code",
   "execution_count": null,
   "metadata": {},
   "outputs": [],
   "source": [
    "In python, we can make a function refer to a global variable by using the 'global' keyword inside \n",
    "    the function. This tells the function to use the global variable instead of creating new local\n",
    "    variable wuth the same name.\n",
    "    Here is an example to use 'global' keyword to refer to a global variable inside a function:-"
   ]
  },
  {
   "cell_type": "code",
   "execution_count": 6,
   "metadata": {},
   "outputs": [
    {
     "name": "stdout",
     "output_type": "stream",
     "text": [
      "Global variable before function call: 10\n",
      "Global variable after function call: 15\n"
     ]
    }
   ],
   "source": [
    "global_var = 10\n",
    "def use_global_var():\n",
    "    global global_var\n",
    "    global_var += 5\n",
    "print(\"Global variable before function call:\", global_var)\n",
    "use_global_var()\n",
    "print(\"Global variable after function call:\", global_var)"
   ]
  },
  {
   "cell_type": "code",
   "execution_count": 7,
   "metadata": {},
   "outputs": [
    {
     "name": "stdout",
     "output_type": "stream",
     "text": [
      "<class 'NoneType'>\n"
     ]
    }
   ],
   "source": [
    "10. What is the data type of None?\n",
    "    None is a special constant representing the absence of a value or a \"null\" value. It is often used to \n",
    "    indicate that a variable or function does not have a meaningful value or does not return any specific \n",
    "    value. None is considered a built-in data type of its own in Python and is also considered a singleton\n",
    "    object, meaning there is only one instance of None in a Python program.\n",
    "\n",
    "print(type(None))\n",
    "The data type of None is called NoneType."
   ]
  },
  {
   "cell_type": "code",
   "execution_count": null,
   "metadata": {},
   "outputs": [],
   "source": [
    "11. What does the sentence import areallyourpetsnamederic do? "
   ]
  },
  {
   "cell_type": "code",
   "execution_count": null,
   "metadata": {},
   "outputs": [],
   "source": [
    "The sentence import areallyourpetsnamederic is not a standard English sentence and doesn't\n",
    "have a clear meaning in the context of the English language. \n",
    "In Python, the import statement is used to include external modules or libraries into your current code,\n",
    "allowing you to access functions, classes, and other objects defined in those modules. "
   ]
  },
  {
   "cell_type": "code",
   "execution_count": null,
   "metadata": {},
   "outputs": [],
   "source": [
    "12. If you had a bacon() feature in a spam module, what would you call it after importing spam?"
   ]
  },
  {
   "cell_type": "code",
   "execution_count": null,
   "metadata": {},
   "outputs": [],
   "source": [
    "After importing the 'spam' module, we can access the 'bacon()' feature from the 'spam' module using the\n",
    "dot notation assuming we have a 'spam' module with a 'bacon()' function defined in it, we can call it as \n",
    "follows:\n",
    "import spam\n",
    "spam.bacon()"
   ]
  },
  {
   "cell_type": "code",
   "execution_count": null,
   "metadata": {},
   "outputs": [],
   "source": [
    "13. What can you do to save a programme from crashing if it encounters an error?"
   ]
  },
  {
   "cell_type": "code",
   "execution_count": null,
   "metadata": {},
   "outputs": [],
   "source": [
    "To prevent a program from crashing when it encounters an error, we can use error handling techniques. \n",
    "In python, we can use try-except blocks to catch and handle exceptions(errors) gracefully. By using\n",
    "error handling, we can control how our program reacts to errors and take appropraite actions \n",
    "without causing a complete crash.\n",
    "Here's how you can use a try-except block to handle errors:"
   ]
  },
  {
   "cell_type": "code",
   "execution_count": 8,
   "metadata": {},
   "outputs": [
    {
     "name": "stdout",
     "output_type": "stream",
     "text": [
      "Error: Division by zero occurred.\n"
     ]
    }
   ],
   "source": [
    "try:\n",
    "    result = 10/0\n",
    "except ZeroDivisionError:\n",
    "    print(\"Error: Division by zero occurred.\")\n",
    "except Exception as e:\n",
    "    print(\"An unexpected error occurred:\", e)\n",
    "    "
   ]
  },
  {
   "cell_type": "code",
   "execution_count": null,
   "metadata": {},
   "outputs": [],
   "source": [
    "14. What is the purpose of the try clause? What is the purpose of the except clause?"
   ]
  },
  {
   "cell_type": "code",
   "execution_count": null,
   "metadata": {},
   "outputs": [],
   "source": [
    "1. Purpose of the try clause:\n",
    "    The try clause is used to enclose the code that might raise an exception or error during execution.\n",
    "    The code inside the try block is monitored, and if any exception occurs, the execution of the try \n",
    "    block is immediately halted, and the program jumps to the corresponding except block \n",
    "    (if one matches the raised exception type). The try block allows you to identify portions of code \n",
    "    that may cause issues and provides a mechanism to handle those issues gracefully without crashing the\n",
    "    entire program.\n",
    "2.Purpose of the except clause:\n",
    "    The except clause is used to define how your program should respond when a specific type of exception \n",
    "    occurs. When an exception is raised inside the try block, Python will check if there is an except block\n",
    "    that matches the type of the raised exception. If a matching except block is found, the code inside that\n",
    "    block will be executed, allowing you to handle the exception and perform necessary actions or recover \n",
    "    from the error. If no matching except block is found, the exception will propagate to the surrounding \n",
    "    code or, if not caught, it may cause the program to terminate and display an error message."
   ]
  }
 ],
 "metadata": {
  "kernelspec": {
   "display_name": "Python 3",
   "language": "python",
   "name": "python3"
  },
  "language_info": {
   "codemirror_mode": {
    "name": "ipython",
    "version": 3
   },
   "file_extension": ".py",
   "mimetype": "text/x-python",
   "name": "python",
   "nbconvert_exporter": "python",
   "pygments_lexer": "ipython3",
   "version": "3.8.5"
  }
 },
 "nbformat": 4,
 "nbformat_minor": 4
}
